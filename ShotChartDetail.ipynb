{
 "cells": [
  {
   "cell_type": "code",
   "execution_count": 45,
   "metadata": {},
   "outputs": [],
   "source": [
    "from nba_api.stats.endpoints import ShotChartDetail\n",
    "import pandas as pd\n",
    "pd.set_option('display.max_rows', 100)\n",
    "pd.set_option('display.max_columns', None)\n",
    "\n",
    "from time import sleep\n",
    "\n",
    "import psycopg2\n",
    "from sqlalchemy import create_engine\n",
    "import sqlconfig\n",
    "from sqlalchemy.exc import SQLAlchemyError"
   ]
  },
  {
   "cell_type": "code",
   "execution_count": null,
   "metadata": {},
   "outputs": [],
   "source": [
    "#Getting cleaned data for use with the shotchart detail endpoint\n",
    "def read_data():\n",
    "    try:\n",
    "        engine = create_engine(\n",
    "            f\"postgresql+psycopg2://{sqlconfig.DB_USER}:{sqlconfig.DB_PASSWORD}@\"\n",
    "            f\"{sqlconfig.DB_HOST}:{sqlconfig.DB_PORT}/{sqlconfig.DB_NAME}\"\n",
    "        )\n",
    "\n",
    "        query = \"SELECT b.game_id,p.player_id, p.team_id FROM nba24_25.active_nba_players p LEFT JOIN nba24_25.boxscores b ON p.player_id=b.player_id LIMIT 30;\"\n",
    "\n",
    "        try:\n",
    "            data=pd.read_sql(query, engine)\n",
    "            return data\n",
    "        \n",
    "        except Exception as e:\n",
    "            print(f\"An error occurred: {e}\")\n",
    "        \n",
    "\n",
    "        print(\"Data inserted\")\n",
    "\n",
    "    except SQLAlchemyError as e:\n",
    "        print(f\"Database error: {e}\")\n",
    "\n",
    "    except Exception as e:\n",
    "        print(f\"An error occurred: {e}\")"
   ]
  },
  {
   "cell_type": "code",
   "execution_count": null,
   "metadata": {},
   "outputs": [],
   "source": [
    "#Fetching shotcharts details\n",
    "def fetch_shotchart_data(player_id, game_id, team_id):\n",
    "   \n",
    "    try:\n",
    "        shotchart = ShotChartDetail(player_id=player_id, game_id_nullable=game_id, team_id=team_id, context_measure_simple='FGA')\n",
    "        fga = shotchart.shot_chart_detail.get_dict()  # Convert to dictionary\n",
    "        print(f\"Fetched data for Player {player_id}, Game {game_id}.\")\n",
    "        return fga\n",
    "    except requests.exceptions.Timeout:\n",
    "        print(f\"Timeout for Player {player_id}, Game {game_id}. Skipping...\")\n",
    "    except requests.exceptions.RequestException as e:\n",
    "        print(f\"Request error for Player {player_id}, Game {game_id}: {e}\")\n",
    "    except Exception as e:\n",
    "        print(f\"Unexpected error for Player {player_id}, Game {game_id}: {e}\")\n",
    "    return None\n",
    "\n",
    "def get_shotchart_data(data):\n",
    "    fga_final = []\n",
    "    for _, row in data.iterrows():\n",
    "        fga = fetch_shotchart_data(player_id=row['player_id'], game_id=row['game_id'], team_id=row['team_id'])\n",
    "\n",
    "        if fga and \"data\" in fga and \"headers\" in fga:\n",
    "            FGA = pd.DataFrame(fga[\"data\"], columns=fga[\"headers\"])\n",
    "            fga_final.append(FGA)\n",
    "        else:\n",
    "            print(f\"Skipping Player {row['team_id']}, Game {row['game_id']} due to missing data.\")\n",
    "        sleep(1) \n",
    "        \n",
    "    if fga_final:\n",
    "        return pd.concat(fga_final, ignore_index=True)\n",
    "    else:\n",
    "        print(\"No data collected.\")\n",
    "        return pd.DataFrame()\n",
    "    \n"
   ]
  },
  {
   "cell_type": "code",
   "execution_count": null,
   "metadata": {},
   "outputs": [],
   "source": [
    "def normalization(data):#Normalization for BCNF\n",
    "    #Game Events\n",
    "    Game_events=data[['GAME_ID','GAME_EVENT_ID','PLAYER_ID','PERIOD','MINUTES_REMAINING','SECONDS_REMAINING','LOC_X','LOC_Y','SHOT_ATTEMPTED_FLAG','SHOT_MADE_FLAG']]\n",
    "    Game_events.columns=['game_id','event_id','player_id','current_period','minutes_remaining','seconds_remaining','loc_x','loc_y','shot_attempted','shot_made']\n",
    "    Game_events=Game_events.copy()\n",
    "    Game_events['game_id']=Game_events['game_id'].astype(str)\n",
    "    Game_events['player_id']=Game_events['player_id'].astype(str)\n",
    "    Game_events['event_id']=Game_events['event_id'].astype(str)\n",
    "\n",
    "    print(\"Game Events\")\n",
    "    print(Game_events.head(5))\n",
    "\n",
    "    #Shot Types \n",
    "    Shot_type=data[['LOC_X','LOC_Y','SHOT_TYPE']].drop_duplicates()\n",
    "    Shot_type.columns=['loc_x','loc_y','shot_type']\n",
    "    print(\"Shot Types\")\n",
    "    print(Shot_type.head(5))\n",
    "    \n",
    "    #Shot Zone Range\n",
    "    Shot_zone_range=data[['LOC_X','LOC_Y','SHOT_ZONE_RANGE']].drop_duplicates()\n",
    "    Shot_zone_range.columns=['loc_x','loc_y','shot_zone_range']\n",
    "    print(\"Shot Zone Range\")\n",
    "    print(Shot_zone_range.head(5))\n",
    "\n",
    "    #Shot Zone Area\n",
    "    Shot_zone_area=data[['LOC_X','LOC_Y','SHOT_ZONE_AREA']].drop_duplicates()\n",
    "    Shot_zone_area.columns=['loc_x','loc_y','shot_zone_area']\n",
    "    print(\"Shot Zone Area\")\n",
    "    print(Shot_zone_area.head(5))\n",
    "\n",
    "    #Shot Zone Basic\n",
    "    Shot_zone_basic=data[['LOC_X','LOC_Y','SHOT_ZONE_BASIC']].drop_duplicates()\n",
    "    Shot_zone_basic.columns=['loc_x','loc_y','shot_zone_basic']\n",
    "    print(\"Shot Zone Basic\")\n",
    "    ']\n",
    "    print(Shot_zone_basic.head(5))\n",
    "    \n",
    "    #Shot distance\n",
    "    Shot_distance=data[['LOC_X','LOC_Y','SHOT_DISTANCE']].drop_duplicates()\n",
    "    Shot_distance.columns=['loc_x','loc_y','shot_distance']\n",
    "    print(\"Shot distance\")\n",
    "    print(Shot_distance.head(5))\n",
    "\n",
    "    #For plotting NBA court\n",
    "    data.to_csv(\"plotCourt.csv\",index=False)\n",
    "\n",
    "    return Game_events,Shot_type,Shot_zone_range,Shot_zone_area,Shot_zone_basic,Shot_distance"
   ]
  },
  {
   "cell_type": "code",
   "execution_count": null,
   "metadata": {},
   "outputs": [],
   "source": [
    "def active_players(data,players):\n",
    "    data=data[data['player_id'].isin(players['player_id'])]\n",
    "    return data"
   ]
  },
  {
   "cell_type": "code",
   "execution_count": 50,
   "metadata": {},
   "outputs": [],
   "source": [
    "def selectPlayers():\n",
    "    try:\n",
    "        engine = create_engine(\n",
    "            f\"postgresql+psycopg2://{sqlconfig.DB_USER}:{sqlconfig.DB_PASSWORD}@\"\n",
    "            f\"{sqlconfig.DB_HOST}:{sqlconfig.DB_PORT}/{sqlconfig.DB_NAME}\"\n",
    "        )\n",
    "\n",
    "        query = \"SELECT p.player_id FROM nba24_25.active_nba_players p;\"\n",
    "\n",
    "        try:\n",
    "            data=pd.read_sql(query, engine)\n",
    "            return data\n",
    "        \n",
    "        except Exception as e:\n",
    "            print(f\"An error occurred: {e}\")\n",
    "        \n",
    "\n",
    "        print(\"Data inserted\")\n",
    "\n",
    "    except SQLAlchemyError as e:\n",
    "        print(f\"Database error: {e}\")\n",
    "\n",
    "    except Exception as e:\n",
    "        print(f\"An error occurred: {e}\")"
   ]
  },
  {
   "cell_type": "code",
   "execution_count": null,
   "metadata": {},
   "outputs": [],
   "source": [
    "def intitalInsertion(data,tablename):\n",
    "    try:\n",
    "        engine = create_engine(\n",
    "            f\"postgresql+psycopg2://{sqlconfig.DB_USER}:{sqlconfig.DB_PASSWORD}@\"\n",
    "            f\"{sqlconfig.DB_HOST}:{sqlconfig.DB_PORT}/{sqlconfig.DB_NAME}\"\n",
    "        )\n",
    "        \n",
    "        # Insertions into the tables\n",
    "        data.to_sql(tablename, engine, schema=\"nba24_25\", if_exists=\"append\", index=False)\n",
    "      \n",
    "        print(\"Data inserted\")\n",
    "\n",
    "    except SQLAlchemyError as e:\n",
    "        print(f\"Database error: {e}\")\n",
    "\n",
    "    except Exception as e:\n",
    "        print(f\"An error occurred: {e}\")\n"
   ]
  },
  {
   "cell_type": "code",
   "execution_count": null,
   "metadata": {},
   "outputs": [],
   "source": [
    "data=read_data()"
   ]
  },
  {
   "cell_type": "code",
   "execution_count": null,
   "metadata": {},
   "outputs": [
    {
     "name": "stdout",
     "output_type": "stream",
     "text": [
      "Fetched data for Player 1629060, Game 0022400835.\n",
      "Fetched data for Player 2544, Game 0022400835.\n",
      "Fetched data for Player 1629637, Game 0022400835.\n",
      "Fetched data for Player 1630559, Game 0022400835.\n",
      "Fetched data for Player 1629029, Game 0022400835.\n",
      "Fetched data for Player 1627827, Game 0022400835.\n",
      "Fetched data for Player 1629216, Game 0022400835.\n",
      "Fetched data for Player 1629020, Game 0022400835.\n",
      "Fetched data for Player 1630692, Game 0022400835.\n",
      "Fetched data for Player 1642261, Game 0022400835.\n",
      "Fetched data for Player 1642355, Game 0022400835.\n",
      "Fetched data for Player 203458, Game 0022400835.\n",
      "Fetched data for Player 1629003, Game 0022400835.\n",
      "Fetched data for Player 202693, Game 0022400835.\n",
      "Fetched data for Player 1629629, Game 0022400835.\n",
      "Fetched data for Player 1641998, Game 0022400835.\n",
      "Fetched data for Player 1628467, Game 0022400835.\n",
      "Fetched data for Player 1631132, Game 0022400835.\n",
      "Fetched data for Player 202691, Game 0022400835.\n",
      "Fetched data for Player 1629023, Game 0022400835.\n",
      "Fetched data for Player 1630556, Game 0022400835.\n",
      "Fetched data for Player 1631108, Game 0022400835.\n",
      "Fetched data for Player 202681, Game 0022400835.\n",
      "Fetched data for Player 203915, Game 0022400835.\n",
      "Fetched data for Player 203957, Game 0022400835.\n",
      "Fetched data for Player 1641765, Game 0022400835.\n",
      "Fetched data for Player 1630230, Game 0022400835.\n",
      "Fetched data for Player 203939, Game 0022400835.\n",
      "Fetched data for Player 1629650, Game 0022400835.\n",
      "Fetched data for Player 1630702, Game 0022400835.\n"
     ]
    }
   ],
   "source": [
    "data=get_shotchart_data(data)"
   ]
  },
  {
   "cell_type": "code",
   "execution_count": 53,
   "metadata": {},
   "outputs": [],
   "source": [
    "players=selectPlayers()"
   ]
  },
  {
   "cell_type": "code",
   "execution_count": 54,
   "metadata": {},
   "outputs": [
    {
     "name": "stdout",
     "output_type": "stream",
     "text": [
      "Game Events\n",
      "      game_id event_id player_id current_period minutes_remaining  \\\n",
      "0  0022400835        9   1629060              1                11   \n",
      "1  0022400835       44   1629060              1                 8   \n",
      "2  0022400835       77   1629060              1                 5   \n",
      "3  0022400835       95   1629060              1                 4   \n",
      "4  0022400835      168   1629060              1                 1   \n",
      "\n",
      "  seconds_remaining loc_x loc_y shot_attempted shot_made  \n",
      "0                39     7    13              1         1  \n",
      "1                30   105     4              1         0  \n",
      "2                56  -194   159              1         0  \n",
      "3                20   232    83              1         1  \n",
      "4                15   -50   252              1         0  \n",
      "Shot Types\n",
      "  loc_x loc_y       shot_type\n",
      "0     7    13  2PT Field Goal\n",
      "1   105     4  2PT Field Goal\n",
      "2  -194   159  3PT Field Goal\n",
      "3   232    83  3PT Field Goal\n",
      "4   -50   252  3PT Field Goal\n",
      "Shot Zone Range\n",
      "  loc_x loc_y  shot_zone_range\n",
      "0     7    13  Less Than 8 ft.\n",
      "1   105     4         8-16 ft.\n",
      "2  -194   159          24+ ft.\n",
      "3   232    83          24+ ft.\n",
      "4   -50   252          24+ ft.\n",
      "Shot Zone Area\n",
      "  loc_x loc_y        shot_zone_area\n",
      "0     7    13             Center(C)\n",
      "1   105     4         Right Side(R)\n",
      "2  -194   159  Left Side Center(LC)\n",
      "3   232    83         Right Side(R)\n",
      "4   -50   252             Center(C)\n",
      "Shot Zone Basic\n",
      "  loc_x loc_y    shot_zone_basic\n",
      "0     7    13    Restricted Area\n",
      "1   105     4          Mid-Range\n",
      "2  -194   159  Above the Break 3\n",
      "3   232    83     Right Corner 3\n",
      "4   -50   252  Above the Break 3\n",
      "Shot distance\n",
      "  loc_x loc_y shot_distance\n",
      "0     7    13             1\n",
      "1   105     4            10\n",
      "2  -194   159            25\n",
      "3   232    83            24\n",
      "4   -50   252            25\n"
     ]
    }
   ],
   "source": [
    "Game_events,Shot_type,Shot_zone_range,Shot_zone_area,Shot_zone_basic,Shot_distance=normalization(data)"
   ]
  },
  {
   "cell_type": "code",
   "execution_count": 55,
   "metadata": {},
   "outputs": [],
   "source": [
    "Game_events=active_players(Game_events,players)"
   ]
  },
  {
   "cell_type": "code",
   "execution_count": null,
   "metadata": {},
   "outputs": [
    {
     "name": "stdout",
     "output_type": "stream",
     "text": [
      "Data inserted\n"
     ]
    }
   ],
   "source": [
    "intitalInsertion(Game_events,\"game_events\")\n",
    "intitalInsertion(Shot_type,\"shot_type\")\n",
    "intitalInsertion(Shot_zone_range,\"shot_zone_range\")\n",
    "intitalInsertion(Shot_zone_area,\"shot_zone_area\")\n",
    "intitalInsertion(Shot_zone_basic,\"shot_zone_basic\")\n",
    "intitalInsertion(Shot_distance,\"shot_distance\")\n"
   ]
  }
 ],
 "metadata": {
  "kernelspec": {
   "display_name": "base",
   "language": "python",
   "name": "python3"
  },
  "language_info": {
   "codemirror_mode": {
    "name": "ipython",
    "version": 3
   },
   "file_extension": ".py",
   "mimetype": "text/x-python",
   "name": "python",
   "nbconvert_exporter": "python",
   "pygments_lexer": "ipython3",
   "version": "3.11.5"
  }
 },
 "nbformat": 4,
 "nbformat_minor": 2
}
