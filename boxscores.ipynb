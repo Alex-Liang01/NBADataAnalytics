{
 "cells": [
  {
   "cell_type": "code",
   "execution_count": 49,
   "metadata": {},
   "outputs": [],
   "source": [
    "from nba_api.live.nba.endpoints import boxscore\n",
    "import pandas as pd\n",
    "\n",
    "import psycopg2\n",
    "from sqlalchemy import create_engine\n",
    "import sqlconfig\n",
    "from sqlalchemy.exc import SQLAlchemyError\n",
    "\n",
    "import requests"
   ]
  },
  {
   "cell_type": "code",
   "execution_count": null,
   "metadata": {},
   "outputs": [],
   "source": [
    "#Finding only valid games\n",
    "def selectGames():\n",
    "    try:\n",
    "        engine = create_engine(\n",
    "            f\"postgresql+psycopg2://{sqlconfig.DB_USER}:{sqlconfig.DB_PASSWORD}@\"\n",
    "            f\"{sqlconfig.DB_HOST}:{sqlconfig.DB_PORT}/{sqlconfig.DB_NAME}\"\n",
    "        )\n",
    "\n",
    "        query = \"SELECT g.game_id FROM nba24_25.nba_games g;\"\n",
    "\n",
    "        try:\n",
    "            data=pd.read_sql(query, engine)\n",
    "            return data\n",
    "        \n",
    "        except Exception as e:\n",
    "            print(f\"An error occurred: {e}\")\n",
    "        \n",
    "\n",
    "        print(\"Data inserted\")\n",
    "\n",
    "    except SQLAlchemyError as e:\n",
    "        print(f\"Database error: {e}\")\n",
    "\n",
    "    except Exception as e:\n",
    "        print(f\"An error occurred: {e}\")"
   ]
  },
  {
   "cell_type": "code",
   "execution_count": null,
   "metadata": {},
   "outputs": [],
   "source": [
    "#Finding all player boxscores\n",
    "def player_boxscores(game_ids):\n",
    "    boxscores_final=[]\n",
    "    for id in game_ids:\n",
    "        try: \n",
    "            box = boxscore.BoxScore(id) \n",
    "            data=box.game.get_dict()\n",
    "        except requests.exceptions.Timeout:\n",
    "            print(\"Time out Error\")\n",
    "            data=[]\n",
    "        \n",
    "        #Home Team Data Wrangling\n",
    "        home_players_boxscores = pd.json_normalize(data['homeTeam']['players'])\n",
    "        if 'statistics' in home_players_boxscores.columns:\n",
    "            data_stats = pd.json_normalize(home_players_boxscores['statistics'])\n",
    "            home_players_boxscores = home_players_boxscores.drop(columns=['statistics']).join(data_stats) \n",
    "        home_players_boxscores['HomeOrAway']='Home'\n",
    "        home_players_boxscores.columns = home_players_boxscores.columns.str.replace('statistics.', '')\n",
    "\n",
    "        #Away Team Data Wrangling\n",
    "        away_players_boxscores = pd.json_normalize(data['awayTeam']['players'])\n",
    "        if 'statistics' in away_players_boxscores.columns:\n",
    "            data_stats = pd.json_normalize(away_players_boxscores['statistics'])   \n",
    "            away_players_boxscores = away_players_boxscores.drop(columns=['statistics']).join(data_stats)\n",
    "        away_players_boxscores['HomeOrAway'] = 'Away'\n",
    "        away_players_boxscores.columns = away_players_boxscores.columns.str.replace('statistics.', '')\n",
    "\n",
    "        #Combining individual game boxscores\n",
    "        boxscores=pd.concat([home_players_boxscores,away_players_boxscores],ignore_index=True)\n",
    "        boxscores['GAME_ID']=id\n",
    "        boxscores_final.append(boxscores)\n",
    "\n",
    "    #Combining all boxscores\n",
    "    boxscores_final = pd.concat(boxscores_final, ignore_index=True)\n",
    "    boxscores_final=boxscores_final.drop(columns=['order','jerseyNum','oncourt','nameI','firstName','familyName','minutesCalculated','plus'])\n",
    "\n",
    "    #Extracting columns into BCNF\n",
    "    \n",
    "    #Injury Report\n",
    "    injury_report=boxscores_final[[\"GAME_ID\",\"personId\",\"notPlayingReason\",\"notPlayingDescription\"]]\n",
    "    injury_report.columns=['game_id','player_id','not_playing_reason','not_playing_description']\n",
    "    injury_report=injury_report.copy()\n",
    "    injury_report['game_id']=injury_report['game_id'].astype(str)\n",
    "    injury_report['player_id']=injury_report['player_id'].astype(str)\n",
    "    print(\"Injury Report\")\n",
    "    print(injury_report.head(5))\n",
    "    \n",
    "    #Boxscore\n",
    "    boxscores=boxscores_final[[\"GAME_ID\",\"personId\",\"starter\",\"played\",\"assists\",\"blocks\",\"blocksReceived\",\"fieldGoalsAttempted\",\"fieldGoalsMade\",\"foulsOffensive\",\"foulsDrawn\",\"foulsPersonal\",\"foulsTechnical\",\"freeThrowsMade\",\"freeThrowsAttempted\",\n",
    "                               \"minutes\",\"plusMinusPoints\",\"pointsFastBreak\",\"pointsInThePaint\",\"pointsSecondChance\",\"reboundsOffensive\",\"reboundsDefensive\",\"steals\",\"threePointersMade\",\"threePointersAttempted\",\"turnovers\",\"twoPointersMade\",\"twoPointersAttempted\",'HomeOrAway']]\n",
    "    \n",
    "    boxscores.columns=['game_id','player_id','starter','played','assists','blocks','blocks_received','fgm','fga','fouls_offensive','fouls_drawn','fouls_personal','fouls_technical','ftm','fta','minutes_played','plus_minus','points_fast_break','points_in_paint',\n",
    "                       'points_second_chance','oreb','dreb','stl','fg3m','fg3a','turnovers','fg2m','fg2a','homeoraway']\n",
    "    boxscores=boxscores.copy()\n",
    "    boxscores['game_id']=boxscores['game_id'].astype(str)\n",
    "    boxscores['player_id']=boxscores['player_id'].astype(str)\n",
    "    \n",
    "    print(\"Boxscore\")\n",
    "    print(boxscores.head(5))\n",
    "\n",
    "    return boxscores,injury_report\n"
   ]
  },
  {
   "cell_type": "code",
   "execution_count": null,
   "metadata": {},
   "outputs": [],
   "source": [
    "def intitalInsertion(data,tablename):\n",
    "    try:\n",
    "        engine = create_engine(\n",
    "            f\"postgresql+psycopg2://{sqlconfig.DB_USER}:{sqlconfig.DB_PASSWORD}@\"\n",
    "            f\"{sqlconfig.DB_HOST}:{sqlconfig.DB_PORT}/{sqlconfig.DB_NAME}\"\n",
    "        )\n",
    "        \n",
    "        # Insertions into the tables\n",
    "        data.to_sql(tablename, engine, schema=\"nba24_25\", if_exists=\"append\", index=False)\n",
    "      \n",
    "        print(\"Data inserted\")\n",
    "\n",
    "    except SQLAlchemyError as e:\n",
    "        print(f\"Database error: {e}\")\n",
    "\n",
    "    except Exception as e:\n",
    "        print(f\"An error occurred: {e}\")"
   ]
  },
  {
   "cell_type": "code",
   "execution_count": null,
   "metadata": {},
   "outputs": [],
   "source": [
    "#Finding Active players\n",
    "def selectPlayers():\n",
    "    try:\n",
    "        engine = create_engine(\n",
    "            f\"postgresql+psycopg2://{sqlconfig.DB_USER}:{sqlconfig.DB_PASSWORD}@\"\n",
    "            f\"{sqlconfig.DB_HOST}:{sqlconfig.DB_PORT}/{sqlconfig.DB_NAME}\"\n",
    "        )\n",
    "\n",
    "        query = \"SELECT p.player_id FROM nba24_25.active_nba_players p;\"\n",
    "\n",
    "        try:\n",
    "            data=pd.read_sql(query, engine)\n",
    "            return data\n",
    "        \n",
    "        except Exception as e:\n",
    "            print(f\"An error occurred: {e}\")\n",
    "        \n",
    "\n",
    "        print(\"Data inserted\")\n",
    "\n",
    "    except SQLAlchemyError as e:\n",
    "        print(f\"Database error: {e}\")\n",
    "\n",
    "    except Exception as e:\n",
    "        print(f\"An error occurred: {e}\")"
   ]
  },
  {
   "cell_type": "code",
   "execution_count": null,
   "metadata": {},
   "outputs": [],
   "source": [
    "#Removing unactive players\n",
    "def active_players(data,players):\n",
    "    data=data[data['player_id'].isin(players['player_id'])]\n",
    "    return data"
   ]
  },
  {
   "cell_type": "code",
   "execution_count": 55,
   "metadata": {},
   "outputs": [],
   "source": [
    "game_ids=selectGames()\n",
    "game_ids=game_ids['game_id'].unique()"
   ]
  },
  {
   "cell_type": "code",
   "execution_count": 56,
   "metadata": {},
   "outputs": [
    {
     "name": "stdout",
     "output_type": "stream",
     "text": [
      "Injury Report\n",
      "      game_id player_id not_playing_reason not_playing_description\n",
      "0  0022400835   1629060                NaN                     NaN\n",
      "1  0022400835      2544                NaN                     NaN\n",
      "2  0022400835   1629637                NaN                     NaN\n",
      "3  0022400835   1630559                NaN                     NaN\n",
      "4  0022400835   1629029                NaN                     NaN\n",
      "Boxscore\n",
      "      game_id player_id starter played  assists  blocks  blocks_received  fga  \\\n",
      "0  0022400835   1629060       1      1        0       2                1   12   \n",
      "1  0022400835      2544       1      1        3       0                1   17   \n",
      "2  0022400835   1629637       1      1        0       2                1    5   \n",
      "3  0022400835   1630559       1      1        5       0                1   12   \n",
      "4  0022400835   1629029       1      1       12       2                3   17   \n",
      "\n",
      "   fgm  fouls_offensive  ...  points_second_chance  oreb  dreb  stl  fg3m  \\\n",
      "0    6                0  ...                     2     1     5    0     2   \n",
      "1   11                1  ...                     2     3     9    1     2   \n",
      "2    4                1  ...                     0     1     7    0     0   \n",
      "3    5                0  ...                     0     0     3    0     3   \n",
      "4    6                0  ...                     6     2    13    3     1   \n",
      "\n",
      "  fg3a  turnovers  fg2m  fg2a  homeoraway  \n",
      "0    6          1     4     6        Home  \n",
      "1    4          6     9    13        Home  \n",
      "2    0          1     4     5        Home  \n",
      "3    8          1     2     4        Home  \n",
      "4    7          2     5    10        Home  \n",
      "\n",
      "[5 rows x 29 columns]\n"
     ]
    }
   ],
   "source": [
    "boxscores,injury_report=player_boxscores(game_ids)"
   ]
  },
  {
   "cell_type": "code",
   "execution_count": 57,
   "metadata": {},
   "outputs": [],
   "source": [
    "players=selectPlayers()\n"
   ]
  },
  {
   "cell_type": "code",
   "execution_count": 58,
   "metadata": {},
   "outputs": [],
   "source": [
    "boxscores=active_players(boxscores,players)\n",
    "injury_report=active_players(injury_report,players)"
   ]
  },
  {
   "cell_type": "code",
   "execution_count": null,
   "metadata": {},
   "outputs": [
    {
     "name": "stdout",
     "output_type": "stream",
     "text": [
      "Data inserted\n"
     ]
    }
   ],
   "source": [
    "intitalInsertion(boxscores,\"boxscores\")\n",
    "intitalInsertion(injury_report,\"injury_report\")"
   ]
  }
 ],
 "metadata": {
  "kernelspec": {
   "display_name": "base",
   "language": "python",
   "name": "python3"
  },
  "language_info": {
   "codemirror_mode": {
    "name": "ipython",
    "version": 3
   },
   "file_extension": ".py",
   "mimetype": "text/x-python",
   "name": "python",
   "nbconvert_exporter": "python",
   "pygments_lexer": "ipython3",
   "version": "3.11.5"
  }
 },
 "nbformat": 4,
 "nbformat_minor": 2
}
