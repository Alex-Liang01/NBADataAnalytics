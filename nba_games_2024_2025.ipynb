{
 "cells": [
  {
   "cell_type": "code",
   "execution_count": 20,
   "metadata": {},
   "outputs": [],
   "source": [
    "from nba_api.stats.endpoints import leaguegamefinder\n",
    "import pandas as pd\n",
    "from datetime import date, timedelta,datetime\n",
    "import psycopg2\n",
    "from sqlalchemy import create_engine\n",
    "import sqlconfig\n",
    "from sqlalchemy.exc import SQLAlchemyError"
   ]
  },
  {
   "cell_type": "code",
   "execution_count": null,
   "metadata": {},
   "outputs": [],
   "source": [
    "#Finds all games in the 2024-25 season\n",
    "def games():\n",
    "    try:\n",
    "        result = leaguegamefinder.LeagueGameFinder()\n",
    "        all_games = result.get_data_frames()[0]\n",
    "    except requests.exceptions.Timeout:\n",
    "        print(\"Time out Error\")\n",
    "        all_games=[]\n",
    "\n",
    "    #Dates to extract from all games from this year\n",
    "    today_date=date.today()\n",
    "    season_start_data = \"2024-10-22\"\n",
    "\n",
    "    season_start_data = datetime.strptime(season_start_data, \"%Y-%m-%d\").date()\n",
    "\n",
    "    #Data Wrangling to clean form\n",
    "    all_games['GAME_DATE']=pd.to_datetime(all_games['GAME_DATE']).dt.date\n",
    "    teams=['CLE','BOS','NYK','MIL','IND','DET','ORL','MIA','ATL','CHI','PHI','BRK','TOR','CHO','WAS','OKC','HOU','MEM','DEN','LAL','LAC','MIN','PHO','DAL','SAC','GSW','SAS','POR','NOP','UTA']\n",
    "    games_2024_2025=all_games.loc[(all_games['GAME_DATE']>=season_start_data) & (all_games['GAME_DATE']<=today_date)]\n",
    "    games_2024_2025=games_2024_2025[games_2024_2025['TEAM_ABBREVIATION'].isin(teams)]\n",
    "    games_2024_2025=games_2024_2025.sort_values(by=['GAME_DATE','GAME_ID'],ascending=False)\n",
    "    print(games_2024_2025.head(5))\n",
    "\n",
    "    #Extracting columns for BCNF\n",
    "\n",
    "    #NBA_GAME_TEAM_STATS\n",
    "    NBA_game_team_stats=games_2024_2025[[\"GAME_ID\",\"TEAM_ID\",\"WL\",\"MIN\",\"FGM\",\"FGA\",\"FG3M\",\"FG3A\",\"FTM\",\"FTA\",\"OREB\",\"DREB\",\"AST\",\"STL\",\"BLK\",\"PF\",\"PLUS_MINUS\"]]\n",
    "    NBA_game_team_stats.columns=['game_id','team_id','wl','min','fgm','fga','fg3m','fg3a','ftm','fta','oreb','dreb','ast','stl','blk','pf','plus_minus']\n",
    "    print(\"NBA_game_team_stats\")\n",
    "    print(NBA_game_team_stats.head(5))\n",
    "\n",
    "    #NBA_Games\n",
    "    nba_games=games_2024_2025[[\"GAME_ID\",\"GAME_DATE\"]].drop_duplicates()\n",
    "    nba_games.columns=['game_id','game_date']\n",
    "    return NBA_game_team_stats,nba_games"
   ]
  },
  {
   "cell_type": "code",
   "execution_count": null,
   "metadata": {},
   "outputs": [],
   "source": [
    "def intitalInsertion(data,tablename):\n",
    "    try:\n",
    "        engine = create_engine(\n",
    "            f\"postgresql+psycopg2://{sqlconfig.DB_USER}:{sqlconfig.DB_PASSWORD}@\"\n",
    "            f\"{sqlconfig.DB_HOST}:{sqlconfig.DB_PORT}/{sqlconfig.DB_NAME}\"\n",
    "        )\n",
    "        \n",
    "        # Insertions into the tables\n",
    "        data.to_sql(tablename, engine, schema=\"nba24_25\", if_exists=\"append\", index=False)\n",
    "      \n",
    "        print(\"Data inserted\")\n",
    "\n",
    "    except SQLAlchemyError as e:\n",
    "        print(f\"Database error: {e}\")\n",
    "\n",
    "    except Exception as e:\n",
    "        print(f\"An error occurred: {e}\")\n"
   ]
  },
  {
   "cell_type": "code",
   "execution_count": null,
   "metadata": {},
   "outputs": [
    {
     "name": "stdout",
     "output_type": "stream",
     "text": [
      "   SEASON_ID     TEAM_ID TEAM_ABBREVIATION              TEAM_NAME     GAME_ID  \\\n",
      "19     22024  1610612747               LAL     Los Angeles Lakers  0022400835   \n",
      "24     22024  1610612742               DAL       Dallas Mavericks  0022400835   \n",
      "27     22024  1610612744               GSW  Golden State Warriors  0022400834   \n",
      "26     22024  1610612740               NOP   New Orleans Pelicans  0022400833   \n",
      "31     22024  1610612759               SAS      San Antonio Spurs  0022400833   \n",
      "\n",
      "     GAME_DATE      MATCHUP WL  MIN  PTS  ...  FT_PCT  OREB  DREB  REB  AST  \\\n",
      "19  2025-02-25  LAL vs. DAL  W  239  107  ...   0.750    13    44   57   24   \n",
      "24  2025-02-25    DAL @ LAL  L  240   99  ...   0.923    14    31   45   23   \n",
      "27  2025-02-25  GSW vs. CHA  W  241  128  ...   0.833    16    35   51   40   \n",
      "26  2025-02-25  NOP vs. SAS  W  240  109  ...   0.800    20    34   54   25   \n",
      "31  2025-02-25    SAS @ NOP  L  240  103  ...   0.778    13    32   45   29   \n",
      "\n",
      "    STL  BLK  TOV  PF  PLUS_MINUS  \n",
      "19    7    8   14  13         8.0  \n",
      "24    7   11   12  14        -8.0  \n",
      "27   16    5   11  20        36.0  \n",
      "26   11    6   19  17         6.0  \n",
      "31   14    4   20  19        -6.0  \n",
      "\n",
      "[5 rows x 28 columns]\n",
      "NBA_game_team_stats\n",
      "       game_id     team_id wl  min  fgm  fga  fg3m  fg3a  ftm  fta  oreb  \\\n",
      "19  0022400835  1610612747  W  239   39   87    11    40   18   24    13   \n",
      "24  0022400835  1610612742  L  240   35   98    17    44   12   13    14   \n",
      "27  0022400834  1610612744  W  241   49  100    15    42   15   18    16   \n",
      "26  0022400833  1610612740  W  240   41   94     7    31   20   25    20   \n",
      "31  0022400833  1610612759  L  240   38   93    13    44   14   18    13   \n",
      "\n",
      "    dreb  ast  stl  blk  pf  plus_minus  \n",
      "19    44   24    7    8  13         8.0  \n",
      "24    31   23    7   11  14        -8.0  \n",
      "27    35   40   16    5  20        36.0  \n",
      "26    34   25   11    6  17         6.0  \n",
      "31    32   29   14    4  19        -6.0  \n",
      "Data inserted\n"
     ]
    }
   ],
   "source": [
    "NBA_game_team_stats,nba_games=games()\n",
    "intitalInsertion(nba_games,\"nba_games\")\n",
    "intitalInsertion(NBA_game_team_stats,\"nba_games_team_stats\")"
   ]
  }
 ],
 "metadata": {
  "kernelspec": {
   "display_name": "base",
   "language": "python",
   "name": "python3"
  },
  "language_info": {
   "codemirror_mode": {
    "name": "ipython",
    "version": 3
   },
   "file_extension": ".py",
   "mimetype": "text/x-python",
   "name": "python",
   "nbconvert_exporter": "python",
   "pygments_lexer": "ipython3",
   "version": "3.11.5"
  }
 },
 "nbformat": 4,
 "nbformat_minor": 2
}
