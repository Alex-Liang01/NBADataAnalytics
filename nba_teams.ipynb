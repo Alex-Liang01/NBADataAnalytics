{
 "cells": [
  {
   "cell_type": "code",
   "execution_count": 45,
   "metadata": {},
   "outputs": [],
   "source": [
    "from nba_api.stats.static import teams\n",
    "import pandas as pd\n",
    "import requests\n",
    "import sqlconfig\n",
    "import psycopg2\n",
    "from sqlalchemy import create_engine\n",
    "from sqlalchemy.exc import SQLAlchemyError"
   ]
  },
  {
   "cell_type": "code",
   "execution_count": null,
   "metadata": {},
   "outputs": [],
   "source": [
    "#Identifying all NBA teams\n",
    "def nba_teams():\n",
    "    try:\n",
    "        nbaTeams=teams._get_teams()\n",
    "        print(\"Fetched Team Data\")\n",
    "    except requests.exceptions.Timeout:\n",
    "        print(\"Time out Error\")\n",
    "        nbaTeams=[]\n",
    "\n",
    "    #Data Cleaning Dictonary to dataframe    \n",
    "    nbaTeams=pd.json_normalize(nbaTeams)\n",
    "    \n",
    "    #Extracting columns for BCNF\n",
    "\n",
    "    #NBA TEAM STATES\n",
    "    print(\"NBA Team States\")\n",
    "    NBA_team_states=nbaTeams[['id','state']]\n",
    "    NBA_team_states.columns=['team_id','team_state']\n",
    "    print(NBA_team_states.head(5))\n",
    "    \n",
    "\n",
    "    #NBA team city\n",
    "    print(\"NBA Team City\")\n",
    "    NBA_team_city=nbaTeams[['id','city']]\n",
    "    NBA_team_city.columns=['team_id','team_city']\n",
    "    print(NBA_team_city.head(5))\n",
    "    \n",
    "\n",
    "    #NBATEAMS\n",
    "    print(\"NBATEAMS\")\n",
    "    teams_nba=nbaTeams[['id','full_name','abbreviation','nickname','year_founded']]\n",
    "    teams_nba = teams_nba.copy()\n",
    "    teams_nba['url']=teams_nba['id'].apply(lambda x: f'https://cdn.nba.com/logos/nba/{x}/primary/L/logo.svg')\n",
    "    teams_nba.columns=['team_id','full_name','abbreviation','nickname','year_founded','team_url_logo']\n",
    "    print(teams_nba.head(5))\n",
    "\n",
    "    return teams_nba,NBA_team_city,NBA_team_states"
   ]
  },
  {
   "cell_type": "code",
   "execution_count": null,
   "metadata": {},
   "outputs": [],
   "source": [
    "def intitalInsertion(data,tablename):\n",
    "    try:\n",
    "        engine = create_engine(\n",
    "            f\"postgresql+psycopg2://{sqlconfig.DB_USER}:{sqlconfig.DB_PASSWORD}@\"\n",
    "            f\"{sqlconfig.DB_HOST}:{sqlconfig.DB_PORT}/{sqlconfig.DB_NAME}\"\n",
    "        )\n",
    "        \n",
    "        # Insertions into the tables\n",
    "        data.to_sql(tablename, engine, schema=\"nba24_25\", if_exists=\"append\", index=False)\n",
    "      \n",
    "        print(\"Data inserted\")\n",
    "\n",
    "    except SQLAlchemyError as e:\n",
    "        print(f\"Database error: {e}\")\n",
    "\n",
    "    except Exception as e:\n",
    "        print(f\"An error occurred: {e}\")"
   ]
  },
  {
   "cell_type": "code",
   "execution_count": null,
   "metadata": {},
   "outputs": [
    {
     "name": "stdout",
     "output_type": "stream",
     "text": [
      "Fetched Team Data\n",
      "NBA Team States\n",
      "      team_id     team_state\n",
      "0  1610612737        Georgia\n",
      "1  1610612738  Massachusetts\n",
      "2  1610612739           Ohio\n",
      "3  1610612740      Louisiana\n",
      "4  1610612741       Illinois\n",
      "NBA Team City\n",
      "      team_id    team_city\n",
      "0  1610612737      Atlanta\n",
      "1  1610612738       Boston\n",
      "2  1610612739    Cleveland\n",
      "3  1610612740  New Orleans\n",
      "4  1610612741      Chicago\n",
      "NBATEAMS\n",
      "      team_id             full_name abbreviation   nickname  year_founded  \\\n",
      "0  1610612737         Atlanta Hawks          ATL      Hawks          1949   \n",
      "1  1610612738        Boston Celtics          BOS    Celtics          1946   \n",
      "2  1610612739   Cleveland Cavaliers          CLE  Cavaliers          1970   \n",
      "3  1610612740  New Orleans Pelicans          NOP   Pelicans          2002   \n",
      "4  1610612741         Chicago Bulls          CHI      Bulls          1966   \n",
      "\n",
      "                                       team_url_logo  \n",
      "0  https://cdn.nba.com/logos/nba/1610612737/prima...  \n",
      "1  https://cdn.nba.com/logos/nba/1610612738/prima...  \n",
      "2  https://cdn.nba.com/logos/nba/1610612739/prima...  \n",
      "3  https://cdn.nba.com/logos/nba/1610612740/prima...  \n",
      "4  https://cdn.nba.com/logos/nba/1610612741/prima...  \n",
      "Data inserted\n"
     ]
    }
   ],
   "source": [
    "teams_nba,NBA_team_city,NBA_team_states=nba_teams()\n",
    "\n",
    "intitalInsertion(teams_nba,\"nbateams\")\n",
    "intitalInsertion(NBA_team_city,\"nba_team_city\")\n",
    "intitalInsertion(NBA_team_states,\"nba_team_states\")\n"
   ]
  }
 ],
 "metadata": {
  "kernelspec": {
   "display_name": "base",
   "language": "python",
   "name": "python3"
  },
  "language_info": {
   "codemirror_mode": {
    "name": "ipython",
    "version": 3
   },
   "file_extension": ".py",
   "mimetype": "text/x-python",
   "name": "python",
   "nbconvert_exporter": "python",
   "pygments_lexer": "ipython3",
   "version": "3.11.5"
  }
 },
 "nbformat": 4,
 "nbformat_minor": 2
}
